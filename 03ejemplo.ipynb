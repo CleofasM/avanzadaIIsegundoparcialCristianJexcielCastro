{
 "cells": [
  {
   "cell_type": "code",
   "execution_count": null,
   "id": "7bfc7e0f",
   "metadata": {},
   "outputs": [
    {
     "name": "stdout",
     "output_type": "stream",
     "text": [
      "Temperaturas en Fahrenheit: [72 75 78 60 65 70 68]\n",
      "Temperaturas en Celsius: [22.22 23.89 25.56 15.56 18.33 21.11 20.  ]\n",
      "\n",
      "Temperatura media en Celsius: 20.95\n",
      "Días con más de 22°C: 3\n"
     ]
    }
   ],
   "source": [
    "import numpy as np\n",
    "\n",
    "#  Fahrenheit durante la semana\n",
    "fahrenheit = np.array([72, 75, 78, 60, 65, 70, 68])\n",
    "\n",
    "# Conversión a Celsius\n",
    "celsius = (fahrenheit - 32) * 5/9\n",
    "\n",
    "# resultados\n",
    "print(\"Temperaturas en Fahrenheit:\", fahrenheit)\n",
    "print(\"Temperaturas en Celsius:\", celsius.round(2))\n",
    "\n",
    "# ¿Cuál fue la temperatura media en Celsius?\n",
    "media = np.mean(celsius)\n",
    "print(\"\\nTemperatura media en Celsius:\", media.round(2))\n",
    "\n",
    "# ¿Cuántos días superaron los 22°C?\n",
    "dias22 = np.sum(celsius > 22)\n",
    "print(\"Días con más de 22°C:\", dias22)"
   ]
  }
 ],
 "metadata": {
  "kernelspec": {
   "display_name": "base",
   "language": "python",
   "name": "python3"
  },
  "language_info": {
   "codemirror_mode": {
    "name": "ipython",
    "version": 3
   },
   "file_extension": ".py",
   "mimetype": "text/x-python",
   "name": "python",
   "nbconvert_exporter": "python",
   "pygments_lexer": "ipython3",
   "version": "3.12.7"
  }
 },
 "nbformat": 4,
 "nbformat_minor": 5
}
