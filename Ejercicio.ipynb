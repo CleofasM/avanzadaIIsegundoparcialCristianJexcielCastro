{
 "cells": [
  {
   "cell_type": "code",
   "execution_count": null,
   "id": "17dbcafb",
   "metadata": {},
   "outputs": [],
   "source": [
    "import numpy as np \n"
   ]
  },
  {
   "cell_type": "code",
   "execution_count": 2,
   "id": "d7507335",
   "metadata": {},
   "outputs": [
    {
     "data": {
      "text/plain": [
       "array([1, 2, 3, 4, 5])"
      ]
     },
     "execution_count": 2,
     "metadata": {},
     "output_type": "execute_result"
    }
   ],
   "source": [
    "arreglo = np.array([1, 2, 3, 4, 5])\n",
    "arreglo "
   ]
  },
  {
   "cell_type": "code",
   "execution_count": 3,
   "id": "9c447aa8",
   "metadata": {},
   "outputs": [
    {
     "data": {
      "text/plain": [
       "array([4, 5, 6, 7, 8])"
      ]
     },
     "execution_count": 3,
     "metadata": {},
     "output_type": "execute_result"
    }
   ],
   "source": [
    "sumado = arreglo + 3\n",
    "sumado"
   ]
  },
  {
   "cell_type": "code",
   "execution_count": 4,
   "id": "15c13e09",
   "metadata": {},
   "outputs": [
    {
     "data": {
      "text/plain": [
       "array([ 2,  4,  6,  8, 10])"
      ]
     },
     "execution_count": 4,
     "metadata": {},
     "output_type": "execute_result"
    }
   ],
   "source": [
    "multiplicado = arreglo * 2 \n",
    "multiplicado"
   ]
  },
  {
   "cell_type": "code",
   "execution_count": 5,
   "id": "5c8df739",
   "metadata": {},
   "outputs": [
    {
     "data": {
      "text/plain": [
       "3.0"
      ]
     },
     "execution_count": 5,
     "metadata": {},
     "output_type": "execute_result"
    }
   ],
   "source": [
    "media = np.mean(arreglo)\n",
    "media"
   ]
  },
  {
   "cell_type": "code",
   "execution_count": 6,
   "id": "19667db7",
   "metadata": {},
   "outputs": [
    {
     "name": "stdout",
     "output_type": "stream",
     "text": [
      "La suma de los arreglos es [10 10 15]\n"
     ]
    }
   ],
   "source": [
    "x = np.array([3, 6, 9])\n",
    "y = np.array([7, 4, 6])\n",
    "\n",
    "sumaArreglos = x + y\n",
    "print(f\"La suma de los arreglos es {sumaArreglos}\")"
   ]
  }
 ],
 "metadata": {
  "kernelspec": {
   "display_name": "Entorn_pandas",
   "language": "python",
   "name": "python3"
  },
  "language_info": {
   "codemirror_mode": {
    "name": "ipython",
    "version": 3
   },
   "file_extension": ".py",
   "mimetype": "text/x-python",
   "name": "python",
   "nbconvert_exporter": "python",
   "pygments_lexer": "ipython3",
   "version": "3.12.9"
  }
 },
 "nbformat": 4,
 "nbformat_minor": 5
}
