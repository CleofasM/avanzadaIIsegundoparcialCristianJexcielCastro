{
 "cells": [
  {
   "cell_type": "markdown",
   "id": "85005c1b",
   "metadata": {},
   "source": [
    "# Como Crear Arreglos"
   ]
  },
  {
   "cell_type": "markdown",
   "id": "28dc27bb",
   "metadata": {},
   "source": [
    "## Arreglo de una dimension (vector)."
   ]
  },
  {
   "cell_type": "code",
   "execution_count": null,
   "id": "bb5f7a54",
   "metadata": {},
   "outputs": [],
   "source": [
    "import numpy as np\n",
    "\n",
    "a = np.array([1, 2, 3, 4])\n",
    "a"
   ]
  },
  {
   "cell_type": "markdown",
   "id": "8f23c235",
   "metadata": {},
   "source": [
    "## Arreglo de dos dimensiones (matriz)."
   ]
  },
  {
   "cell_type": "code",
   "execution_count": null,
   "id": "37fcae87",
   "metadata": {},
   "outputs": [],
   "source": [
    "b = np.array([[1, 2], [3, 4]])\n",
    "b"
   ]
  },
  {
   "cell_type": "markdown",
   "id": "cf11d315",
   "metadata": {},
   "source": [
    "## Arreglo de tres dimensiones (tensor 3d)"
   ]
  },
  {
   "cell_type": "code",
   "execution_count": null,
   "id": "ef1964ce",
   "metadata": {},
   "outputs": [],
   "source": [
    "c = np.array([[[1,2], [3,4]], [[5, 6], [7, 8]]])\n",
    "c"
   ]
  },
  {
   "cell_type": "markdown",
   "id": "b6227552",
   "metadata": {},
   "source": [
    "## Tensor ND"
   ]
  },
  {
   "cell_type": "code",
   "execution_count": null,
   "id": "912ae9a0",
   "metadata": {},
   "outputs": [],
   "source": [
    "d = np.zeros((4, 3 ,2, 5))\n",
    "d\n"
   ]
  },
  {
   "cell_type": "markdown",
   "id": "5e3906ae",
   "metadata": {},
   "source": [
    "# Funciones de Numpy"
   ]
  },
  {
   "cell_type": "markdown",
   "id": "4ea1023b",
   "metadata": {},
   "source": [
    "## Funciones para crear Arrays"
   ]
  },
  {
   "cell_type": "markdown",
   "id": "f386b164",
   "metadata": {},
   "source": [
    "### np.array() Convierte listas en arrays"
   ]
  },
  {
   "cell_type": "code",
   "execution_count": null,
   "id": "343f6209",
   "metadata": {},
   "outputs": [],
   "source": [
    "lista = [1, 2, 3]\n",
    "arreglo = np.array(lista)\n",
    "\n",
    "print (arreglo)"
   ]
  },
  {
   "cell_type": "markdown",
   "id": "d5161944",
   "metadata": {},
   "source": [
    "### np.zeros() crea un array lleno de ceros"
   ]
  },
  {
   "cell_type": "code",
   "execution_count": null,
   "id": "194b0655",
   "metadata": {},
   "outputs": [],
   "source": [
    "ceros = np.zeros(5)\n",
    "print(ceros)"
   ]
  },
  {
   "cell_type": "markdown",
   "id": "52ca4841",
   "metadata": {},
   "source": [
    "### np.ones() crea un array lleno de unos."
   ]
  },
  {
   "cell_type": "code",
   "execution_count": null,
   "id": "0c4ac194",
   "metadata": {},
   "outputs": [],
   "source": [
    "unos = np.ones((1,2,3))\n",
    "print(unos)"
   ]
  },
  {
   "cell_type": "markdown",
   "id": "b12862c8",
   "metadata": {},
   "source": [
    "### np.arange() array con rango de numeros."
   ]
  },
  {
   "cell_type": "code",
   "execution_count": null,
   "id": "dd0fa879",
   "metadata": {},
   "outputs": [],
   "source": [
    "rango = np.arange(0, 11, 2)\n",
    "print(rango)\n"
   ]
  },
  {
   "cell_type": "markdown",
   "id": "3d325204",
   "metadata": {},
   "source": [
    "### np.linspace() array con numeros equidistantes."
   ]
  },
  {
   "cell_type": "code",
   "execution_count": null,
   "id": "4a5b55ac",
   "metadata": {},
   "outputs": [],
   "source": [
    "linea = np.linspace(1, 10, 4)\n",
    "print(linea)\n"
   ]
  },
  {
   "cell_type": "markdown",
   "id": "295fe5c1",
   "metadata": {},
   "source": [
    "### np.eye() crea una matriz identidad."
   ]
  },
  {
   "cell_type": "code",
   "execution_count": null,
   "id": "a05c3b15",
   "metadata": {},
   "outputs": [],
   "source": [
    "identidad = np.eye(3)\n",
    "print(identidad)"
   ]
  },
  {
   "cell_type": "markdown",
   "id": "db9e09c9",
   "metadata": {},
   "source": [
    "### np.random.rand() Numeros aleatorios"
   ]
  },
  {
   "cell_type": "code",
   "execution_count": null,
   "id": "d82aca7c",
   "metadata": {},
   "outputs": [],
   "source": [
    "aleatorios = np.random.rand(2, 1)\n",
    "print(aleatorios)"
   ]
  },
  {
   "cell_type": "markdown",
   "id": "dd66b7e7",
   "metadata": {},
   "source": [
    "## Operaciones Matematicas."
   ]
  },
  {
   "cell_type": "markdown",
   "id": "cf1c70fc",
   "metadata": {},
   "source": [
    "### +, np.add() Suma de arrays"
   ]
  },
  {
   "cell_type": "code",
   "execution_count": null,
   "id": "cbe07b30",
   "metadata": {},
   "outputs": [],
   "source": [
    "dato1 = np.array([1, 4, 9])\n",
    "dato2 = np.array([1, 2, 3])\n",
    "\n",
    "suma = dato1 + dato2\n",
    "suma_funcion = np.add(dato1, dato2)\n",
    "suma\n",
    "print(suma_funcion)"
   ]
  },
  {
   "cell_type": "markdown",
   "id": "b292a0f0",
   "metadata": {},
   "source": [
    "### -, np.substract() Resta de Arrays"
   ]
  },
  {
   "cell_type": "code",
   "execution_count": null,
   "id": "2ea76407",
   "metadata": {},
   "outputs": [],
   "source": [
    "dato1 = np.array([1, 4, 9])\n",
    "dato2 = np.array([1, 2, 3])\n",
    "resta = dato1-dato2\n",
    "resta_funcion = np.subtract(dato1, dato2)\n",
    "resta\n",
    "print(resta_funcion)"
   ]
  },
  {
   "cell_type": "markdown",
   "id": "e0c8f56f",
   "metadata": {},
   "source": [
    "### *, np.multiply() Multiplicacion de arrays"
   ]
  },
  {
   "cell_type": "code",
   "execution_count": null,
   "id": "ad391c29",
   "metadata": {},
   "outputs": [],
   "source": [
    "dato1 = np.array([1, 4, 9])\n",
    "dato2 = np.array([1, 2, 3])\n",
    "multiplicacion = dato1 * dato2\n",
    "multiplicacion_funcion = np.multiply(dato1, dato2)\n",
    "multiplicacion\n",
    "print(multiplicacion_funcion)"
   ]
  },
  {
   "cell_type": "markdown",
   "id": "cc76ba70",
   "metadata": {},
   "source": [
    "### /, np.divide() Division de arrays"
   ]
  },
  {
   "cell_type": "code",
   "execution_count": null,
   "id": "3f98c9a2",
   "metadata": {},
   "outputs": [],
   "source": [
    "dato1 = np.array([1, 4, 9])\n",
    "dato2 = np.array([1, 2, 3])\n",
    "division = dato1 / dato2\n",
    "division_funcion = np.divide(dato1, dato2)\n",
    "division\n",
    "print(division_funcion)"
   ]
  },
  {
   "cell_type": "markdown",
   "id": "3f531c99",
   "metadata": {},
   "source": [
    "### **, np.power() potencia."
   ]
  },
  {
   "cell_type": "code",
   "execution_count": null,
   "id": "cd20d4d2",
   "metadata": {},
   "outputs": [],
   "source": [
    "dato1 = np.array([1, 4, 9])\n",
    "dato2 = np.array([1, 2, 3])\n",
    "potencia = dato1**2\n",
    "potencia_funcion = np.power(dato2, 2)\n",
    "\n",
    "print(potencia)\n",
    "print(potencia_funcion)"
   ]
  },
  {
   "cell_type": "markdown",
   "id": "a9b7f6bd",
   "metadata": {},
   "source": [
    "### np.sqrt() Raiz Cuadrada"
   ]
  },
  {
   "cell_type": "code",
   "execution_count": null,
   "id": "de9df7bf",
   "metadata": {},
   "outputs": [],
   "source": [
    "dato1 = np.array([1, 4, 9])\n",
    "dato2 = np.array([1, 2, 3])\n",
    "Raiz = np.sqrt(dato1)\n",
    "print(Raiz)"
   ]
  },
  {
   "cell_type": "markdown",
   "id": "5606b897",
   "metadata": {},
   "source": [
    "## Estadistica y resumen de datos"
   ]
  },
  {
   "cell_type": "markdown",
   "id": "b82b1144",
   "metadata": {},
   "source": [
    "### np.mean() Promedio"
   ]
  },
  {
   "cell_type": "code",
   "execution_count": null,
   "id": "0e4c3206",
   "metadata": {},
   "outputs": [],
   "source": [
    "promedio = np.mean([9, 9, 9])\n",
    "print(promedio)"
   ]
  },
  {
   "cell_type": "markdown",
   "id": "d4633d81",
   "metadata": {},
   "source": [
    "### np.median() Mediana"
   ]
  },
  {
   "cell_type": "code",
   "execution_count": null,
   "id": "03cc2f16",
   "metadata": {},
   "outputs": [],
   "source": [
    "mediana = np.median([3, 7, 1, 9, 5])\n",
    "print(mediana)"
   ]
  },
  {
   "cell_type": "markdown",
   "id": "32fd08a2",
   "metadata": {},
   "source": [
    "### np.std() Desviacion estandar"
   ]
  },
  {
   "cell_type": "code",
   "execution_count": null,
   "id": "e70de7b8",
   "metadata": {},
   "outputs": [],
   "source": [
    "desvi_estandar = np.std([10, 20, 30, 40, 50])\n",
    "print(desvi_estandar)"
   ]
  },
  {
   "cell_type": "markdown",
   "id": "f44e7e7a",
   "metadata": {},
   "source": [
    "### np.var() Varianza"
   ]
  },
  {
   "cell_type": "code",
   "execution_count": null,
   "id": "02f16c9c",
   "metadata": {},
   "outputs": [],
   "source": [
    "varianza = np.var([10, 20, 30, 40, 50])\n",
    "print(varianza)\n"
   ]
  },
  {
   "cell_type": "markdown",
   "id": "39f27646",
   "metadata": {},
   "source": [
    "### np.max() y np.min() Maximo y minimo"
   ]
  },
  {
   "cell_type": "code",
   "execution_count": null,
   "id": "51864629",
   "metadata": {},
   "outputs": [],
   "source": [
    "datos = np.array([10, 20, 30, 40, 50])\n",
    "\n",
    "maximo = np.max(datos)\n",
    "minimo = np.min(datos)\n",
    "\n",
    "print(maximo)\n",
    "print(minimo)"
   ]
  },
  {
   "cell_type": "markdown",
   "id": "46a7ed55",
   "metadata": {},
   "source": [
    "## Algebra Lineal"
   ]
  },
  {
   "cell_type": "markdown",
   "id": "c2b0bfb5",
   "metadata": {},
   "source": [
    "### np.dot() Producto punto o escalar"
   ]
  },
  {
   "cell_type": "code",
   "execution_count": null,
   "id": "6ee687a2",
   "metadata": {},
   "outputs": [],
   "source": [
    "escalar = np.dot([1,2], [3,4])\n",
    "escalar\n"
   ]
  },
  {
   "cell_type": "markdown",
   "id": "3455fe1f",
   "metadata": {},
   "source": [
    "### np.matmul() Multiplicacion de matrices"
   ]
  },
  {
   "cell_type": "code",
   "execution_count": null,
   "id": "c4ce537f",
   "metadata": {},
   "outputs": [],
   "source": [
    "matriz = np.array([[1,2],[3,2]])\n",
    "matriz1 = np.array([[3,4],[5,6]])\n",
    "\n",
    "multiplicacionmatmul = np.matmul(matriz,matriz1)\n",
    "print(multiplicacionmatmul)"
   ]
  },
  {
   "cell_type": "markdown",
   "id": "756839cb",
   "metadata": {},
   "source": [
    "### np.linalg.inv() Inversa de una matriz"
   ]
  },
  {
   "cell_type": "code",
   "execution_count": null,
   "id": "8601cafa",
   "metadata": {},
   "outputs": [],
   "source": [
    "matriz2 = np.array([[1,1,0],[1,0,1], [0,1,0]])\n",
    "\n",
    "inversa = np.linalg.inv(matriz2)\n",
    "\n",
    "inversa"
   ]
  },
  {
   "cell_type": "markdown",
   "id": "23e28350",
   "metadata": {},
   "source": [
    "### np.linalg.det() Determinante de una matriz"
   ]
  },
  {
   "cell_type": "code",
   "execution_count": null,
   "id": "52444b75",
   "metadata": {},
   "outputs": [],
   "source": [
    "matriz= np.array([[2,3,3,6],[2,3,6,7],[4,82,0,3],[2,23,2,3]])\n",
    "\n",
    "determinante = np.linalg.det(matriz)\n",
    "determinante\n"
   ]
  },
  {
   "cell_type": "markdown",
   "id": "ac018364",
   "metadata": {},
   "source": [
    "### np.linalg.solve() Resolver sistemas de ecuaciones"
   ]
  },
  {
   "cell_type": "code",
   "execution_count": null,
   "id": "9f0dd763",
   "metadata": {},
   "outputs": [],
   "source": [
    "A = np.array([[2,3], [3, 4]])\n",
    "\n",
    "B = np.linalg.solve(A, np.array([-1, 0]))\n",
    "B"
   ]
  },
  {
   "cell_type": "markdown",
   "id": "7d5f0035",
   "metadata": {},
   "source": [
    "# Herramientas para manipular arrays"
   ]
  },
  {
   "cell_type": "markdown",
   "id": "359594f3",
   "metadata": {},
   "source": [
    "### reshape() Cambia la forma del array"
   ]
  },
  {
   "cell_type": "code",
   "execution_count": null,
   "id": "36d159e9",
   "metadata": {},
   "outputs": [],
   "source": [
    "arreglo = np.array([[1,2,3],[4,5,6]])\n",
    "arraymodificado = arreglo.reshape(3,2)\n",
    "print(arreglo)\n",
    "arraymodificado"
   ]
  },
  {
   "cell_type": "markdown",
   "id": "7d9e5b7d",
   "metadata": {},
   "source": [
    "### flatten() Convierte array en 1D"
   ]
  },
  {
   "cell_type": "code",
   "execution_count": null,
   "id": "b4a553da",
   "metadata": {},
   "outputs": [],
   "source": [
    "print(arreglo)\n",
    "arraytransformado1d = arreglo.flatten()\n",
    "arraytransformado1d"
   ]
  },
  {
   "cell_type": "markdown",
   "id": "fdc9ae6b",
   "metadata": {},
   "source": [
    "### concatenate() Une arrays"
   ]
  },
  {
   "cell_type": "code",
   "execution_count": null,
   "id": "1646a6de",
   "metadata": {},
   "outputs": [],
   "source": [
    "a = np.array([1, 2])\n",
    "b = np.array([3, 4])\n",
    "\n",
    "array_concatenado = np.concatenate((a,b))\n",
    "array_concatenado"
   ]
  },
  {
   "cell_type": "markdown",
   "id": "983d877b",
   "metadata": {},
   "source": [
    "### split() Divide un array"
   ]
  },
  {
   "cell_type": "code",
   "execution_count": null,
   "id": "f5561d8e",
   "metadata": {},
   "outputs": [],
   "source": [
    "a = np.array([10,20,30,40])\n",
    "array_dividido = np.split(a,2)\n",
    "array_dividido"
   ]
  },
  {
   "cell_type": "markdown",
   "id": "148ade60",
   "metadata": {},
   "source": [
    "### Indexado"
   ]
  },
  {
   "cell_type": "code",
   "execution_count": null,
   "id": "2502db4c",
   "metadata": {},
   "outputs": [],
   "source": [
    "arreglo = np.array([[1,2,3],[4,5,6]])\n",
    "indexado = arreglo[0,1]\n",
    "indexado"
   ]
  },
  {
   "cell_type": "markdown",
   "id": "2752983c",
   "metadata": {},
   "source": [
    "### Mascara Condicional"
   ]
  },
  {
   "cell_type": "code",
   "execution_count": null,
   "id": "ea10a45e",
   "metadata": {},
   "outputs": [],
   "source": [
    "arreglo = np.array([[1,2,3],[4,5,6]])\n",
    "\n",
    "mascara = arreglo[arreglo > 3]\n",
    "mascara"
   ]
  },
  {
   "cell_type": "markdown",
   "id": "78bedc88",
   "metadata": {},
   "source": [
    "# Funciones Especiales"
   ]
  },
  {
   "cell_type": "markdown",
   "id": "96f47e98",
   "metadata": {},
   "source": [
    "### numpy.fft() Convierte una senal en frecuencia."
   ]
  },
  {
   "cell_type": "code",
   "execution_count": null,
   "id": "30ff275f",
   "metadata": {},
   "outputs": [],
   "source": [
    "a = np.array([0, 1, 0, -1])\n",
    "fft = np.fft.fft(a)\n",
    "\n",
    "fft"
   ]
  },
  {
   "cell_type": "markdown",
   "id": "09049629",
   "metadata": {},
   "source": [
    "### numpy.random() y numpy.randomint() Genera numeros aleatorios"
   ]
  },
  {
   "cell_type": "code",
   "execution_count": null,
   "id": "42226f2f",
   "metadata": {},
   "outputs": [],
   "source": [
    "aleatorios = np.random.rand(2, 2)\n",
    "\n",
    "print(aleatorios)\n",
    "\n",
    "enteros = np.random.randint(1, 11, size=(3, 3))\n",
    "print(\"Enteros aleatorios:\\n\", enteros)"
   ]
  },
  {
   "cell_type": "markdown",
   "id": "b32bbce3",
   "metadata": {},
   "source": [
    "### numpy.polynomial() Polinomios"
   ]
  },
  {
   "cell_type": "code",
   "execution_count": null,
   "id": "f237b6c2",
   "metadata": {},
   "outputs": [],
   "source": [
    "p = np.polynomial.Polynomial([1, -2, 1]) # 1-2x+x^2\n",
    "\n",
    "print(p(3)) #x=3 es decir 1-2(3)+(3)^2"
   ]
  },
  {
   "cell_type": "markdown",
   "id": "e29e3cd2",
   "metadata": {},
   "source": [
    "### numpy.ma() Arrays con valores enmascarados para ignorar valores incorrectos"
   ]
  },
  {
   "cell_type": "code",
   "execution_count": null,
   "id": "3cc69c26",
   "metadata": {},
   "outputs": [],
   "source": [
    "datos = np.array([10, -1, 30])\n",
    "\n",
    "mascarado = np.ma.masked_equal(datos, -1)\n",
    "\n",
    "print(\"Array enmascarado:\", mascarado)\n",
    "print(\"Media sin contar -1:\", mascarado.mean())"
   ]
  }
 ],
 "metadata": {
  "kernelspec": {
   "display_name": "base",
   "language": "python",
   "name": "python3"
  },
  "language_info": {
   "codemirror_mode": {
    "name": "ipython",
    "version": 3
   },
   "file_extension": ".py",
   "mimetype": "text/x-python",
   "name": "python",
   "nbconvert_exporter": "python",
   "pygments_lexer": "ipython3",
   "version": "3.12.7"
  }
 },
 "nbformat": 4,
 "nbformat_minor": 5
}
