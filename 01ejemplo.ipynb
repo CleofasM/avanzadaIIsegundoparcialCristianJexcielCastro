{
 "cells": [
  {
   "cell_type": "code",
   "execution_count": 1,
   "id": "27fe9bb6",
   "metadata": {},
   "outputs": [
    {
     "name": "stdout",
     "output_type": "stream",
     "text": [
      "La solución del sistema de ecuaciones es:\n",
      "X = 0.0 \n",
      "Y = -3.0 \n",
      "Z = 6.0\n"
     ]
    }
   ],
   "source": [
    "import numpy as np\n",
    "# 7X +Y +5Z =27 \n",
    "# 4X +3Y +5Z =21 \n",
    "# 6X +Y +2Z =9\n",
    "\n",
    "#coeficientes de la matriz\n",
    "# A=np.matrix(\"7 1 5;4 3 5;6 1 2\")\n",
    "A=np.array([[7, 1, 5],\n",
    "              [4, 3, 5],\n",
    "              [6, 1, 2]])\n",
    "\n",
    "#terminos independientes\n",
    "# B=np.matrix(\"27;21;9\")\n",
    "B=np.array([27, 21, 9])\n",
    "\n",
    "# sistema de ecuaciones\n",
    "X=np.linalg.solve(A,B).round(2)  \n",
    "\n",
    "\n",
    "\n",
    "# soluciones\n",
    "print(\"La solución del sistema de ecuaciones es:\")\n",
    "print(f\"X = {X[0]} \\nY = {X[1]} \\nZ = {X[2]}\")\n"
   ]
  }
 ],
 "metadata": {
  "kernelspec": {
   "display_name": "base",
   "language": "python",
   "name": "python3"
  },
  "language_info": {
   "codemirror_mode": {
    "name": "ipython",
    "version": 3
   },
   "file_extension": ".py",
   "mimetype": "text/x-python",
   "name": "python",
   "nbconvert_exporter": "python",
   "pygments_lexer": "ipython3",
   "version": "3.12.7"
  }
 },
 "nbformat": 4,
 "nbformat_minor": 5
}
