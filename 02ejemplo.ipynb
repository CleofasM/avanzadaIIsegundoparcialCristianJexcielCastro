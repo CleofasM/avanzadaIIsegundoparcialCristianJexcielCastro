{
 "cells": [
  {
   "cell_type": "code",
   "execution_count": null,
   "id": "a6f50145",
   "metadata": {},
   "outputs": [
    {
     "name": "stdout",
     "output_type": "stream",
     "text": [
      "Datos: [15 20 35 40 50]\n",
      "Media: 32.0\n",
      "Mediana: 35.0\n",
      "Desviación estándar: 12.88\n"
     ]
    }
   ],
   "source": [
    "import numpy as np\n",
    "\n",
    "#  datos de ejemplo\n",
    "datos = np.array([15, 20, 35, 40, 50])\n",
    "\n",
    "# estadísticas básicas\n",
    "media = np.mean(datos)\n",
    "mediana = np.median(datos)\n",
    "desviacion = np.std(datos)\n",
    "\n",
    "#  resultados\n",
    "print(\"Datos:\", datos)\n",
    "print(\"Media:\", media)\n",
    "print(\"Mediana:\", mediana)\n",
    "print(\"Desviación estándar:\", desviacion.round(2))"
   ]
  }
 ],
 "metadata": {
  "kernelspec": {
   "display_name": "base",
   "language": "python",
   "name": "python3"
  },
  "language_info": {
   "codemirror_mode": {
    "name": "ipython",
    "version": 3
   },
   "file_extension": ".py",
   "mimetype": "text/x-python",
   "name": "python",
   "nbconvert_exporter": "python",
   "pygments_lexer": "ipython3",
   "version": "3.12.7"
  }
 },
 "nbformat": 4,
 "nbformat_minor": 5
}
