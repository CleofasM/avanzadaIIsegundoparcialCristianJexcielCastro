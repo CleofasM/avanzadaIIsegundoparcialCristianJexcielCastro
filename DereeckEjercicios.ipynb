{
 "cells": [
  {
   "cell_type": "code",
   "execution_count": 2,
   "id": "c21f84a0",
   "metadata": {},
   "outputs": [],
   "source": [
    "import numpy as np "
   ]
  },
  {
   "cell_type": "code",
   "execution_count": 3,
   "id": "1fd54657",
   "metadata": {},
   "outputs": [],
   "source": [
    "temperaturas = np.array([30, 32, 29, 28, 31, 33, 27])\n"
   ]
  },
  {
   "cell_type": "code",
   "execution_count": 5,
   "id": "3e0f7cfa",
   "metadata": {},
   "outputs": [
    {
     "data": {
      "text/plain": [
       "30.0"
      ]
     },
     "execution_count": 5,
     "metadata": {},
     "output_type": "execute_result"
    }
   ],
   "source": [
    "promedio = temperaturas.mean()\n",
    "promedio"
   ]
  },
  {
   "cell_type": "code",
   "execution_count": 6,
   "id": "0d6bfd2b",
   "metadata": {},
   "outputs": [
    {
     "data": {
      "text/plain": [
       "5"
      ]
     },
     "execution_count": 6,
     "metadata": {},
     "output_type": "execute_result"
    }
   ],
   "source": [
    "dia_mas_caluroso = temperaturas.argmax()\n",
    "dia_mas_caluroso"
   ]
  },
  {
   "cell_type": "code",
   "execution_count": 7,
   "id": "2ce17be3",
   "metadata": {},
   "outputs": [
    {
     "data": {
      "text/plain": [
       "6"
      ]
     },
     "execution_count": 7,
     "metadata": {},
     "output_type": "execute_result"
    }
   ],
   "source": [
    "dia_mas_frio = temperaturas.argmin()\n",
    "dia_mas_frio"
   ]
  },
  {
   "cell_type": "code",
   "execution_count": 8,
   "id": "3bf30051",
   "metadata": {},
   "outputs": [],
   "source": [
    "dias_semana = [\"Lunes\", \"Martes\", \"Miercoles\", \"Jueves\", \"viernes\", \"Sabado\", \"Domingo\"]"
   ]
  },
  {
   "cell_type": "code",
   "execution_count": 11,
   "id": "4a1beaea",
   "metadata": {},
   "outputs": [
    {
     "name": "stdout",
     "output_type": "stream",
     "text": [
      "Temperaturas de la semana: [30 32 29 28 31 33 27]\n",
      "Promedio Semanal: 30.00 C\n",
      "Dia mas caluroso: Sabado (33) C\n",
      "Dia mas Frio: Domingo (27) C\n"
     ]
    }
   ],
   "source": [
    "print(\"Temperaturas de la semana:\", temperaturas)\n",
    "print(f\"Promedio Semanal: {promedio:.2f} C\")\n",
    "print(\"Dia mas caluroso:\", dias_semana[dia_mas_caluroso], f'({temperaturas[dia_mas_caluroso]}) C')\n",
    "print(\"Dia mas Frio:\", dias_semana[dia_mas_frio], f'({temperaturas[dia_mas_frio]}) C')\n"
   ]
  }
 ],
 "metadata": {
  "kernelspec": {
   "display_name": "base",
   "language": "python",
   "name": "python3"
  },
  "language_info": {
   "codemirror_mode": {
    "name": "ipython",
    "version": 3
   },
   "file_extension": ".py",
   "mimetype": "text/x-python",
   "name": "python",
   "nbconvert_exporter": "python",
   "pygments_lexer": "ipython3",
   "version": "3.12.7"
  }
 },
 "nbformat": 4,
 "nbformat_minor": 5
}
